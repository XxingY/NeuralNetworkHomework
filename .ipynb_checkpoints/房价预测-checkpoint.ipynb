{
 "cells": [
  {
   "cell_type": "code",
   "execution_count": 3,
   "metadata": {},
   "outputs": [],
   "source": [
    "import numpy as np\n",
    "import pandas as pd\n",
    "import matplotlib.pyplot as plt"
   ]
  },
  {
   "cell_type": "code",
   "execution_count": 4,
   "metadata": {},
   "outputs": [],
   "source": [
    "x = np.array([[137.97, 104.50, 100.00, 124.32, 79.20, 99.00, 124.00, 114.00,\n",
    "               106.69, 138.05, 53.75, 46.91, 68.00, 63.02, 81.26, 86.21],\n",
    "             [3, 2, 2, 3, 1, 2, 3, 2, 2, 3, 1, 1, 1, 1, 2, 2]])\n",
    "y = np.array([145.00, 110.00, 93.00, 116.00, 65.32, 104.00, 118.00, 91.00,\n",
    "             62.00, 133.00, 51.00, 45.00, 78.50, 75.69, 95.30])"
   ]
  },
  {
   "cell_type": "code",
   "execution_count": 5,
   "metadata": {},
   "outputs": [
    {
     "data": {
      "text/plain": [
       "array([[137.97, 104.5 , 100.  , 124.32,  79.2 ,  99.  , 124.  , 114.  ,\n",
       "        106.69, 138.05,  53.75,  46.91,  68.  ,  63.02,  81.26,  86.21],\n",
       "       [  3.  ,   2.  ,   2.  ,   3.  ,   1.  ,   2.  ,   3.  ,   2.  ,\n",
       "          2.  ,   3.  ,   1.  ,   1.  ,   1.  ,   1.  ,   2.  ,   2.  ]])"
      ]
     },
     "execution_count": 5,
     "metadata": {},
     "output_type": "execute_result"
    }
   ],
   "source": [
    "x"
   ]
  },
  {
   "cell_type": "code",
   "execution_count": null,
   "metadata": {},
   "outputs": [],
   "source": []
  }
 ],
 "metadata": {
  "kernelspec": {
   "display_name": "Python 3",
   "language": "python",
   "name": "python3"
  },
  "language_info": {
   "codemirror_mode": {
    "name": "ipython",
    "version": 3
   },
   "file_extension": ".py",
   "mimetype": "text/x-python",
   "name": "python",
   "nbconvert_exporter": "python",
   "pygments_lexer": "ipython3",
   "version": "3.8.3"
  }
 },
 "nbformat": 4,
 "nbformat_minor": 4
}
